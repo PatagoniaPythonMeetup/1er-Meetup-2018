{
 "cells": [
  {
   "cell_type": "code",
   "execution_count": 1,
   "metadata": {},
   "outputs": [],
   "source": [
    "import tweepy"
   ]
  },
  {
   "cell_type": "code",
   "execution_count": 2,
   "metadata": {},
   "outputs": [],
   "source": [
    "# Credentials\n",
    "CONSUMER_KEY = 'lzCIVKmAk5dFz66bdLahARZi5'#keep the quotes, replace this with your consumer key\n",
    "CONSUMER_SECRET = 'PNsO3TRTbJVOHC7ukXpe6FnF3pr73ilOWQ8mAOGgvQ5sYF4d8d'#keep the quotes, replace this with your consumer secret key\n",
    "ACCESS_KEY = '969361386450112513-4Ce1pAaVYxYAscnXp6qxBNqnXScd3DI'#keep the quotes, replace this with your access token\n",
    "ACCESS_SECRET = 'gI2SRiOYr1e4JMKfZWhDMJUDabbCzplByjVE7CWpXH6u0'#keep the quotes, replace this with your access token secret"
   ]
  },
  {
   "cell_type": "code",
   "execution_count": 3,
   "metadata": {},
   "outputs": [],
   "source": [
    "# Aunticarse usando lo antes seteado\n",
    "auth = tweepy.OAuthHandler(CONSUMER_KEY, CONSUMER_SECRET)\n",
    "auth.set_access_token(ACCESS_KEY, ACCESS_SECRET)\n",
    "api = tweepy.API(auth)"
   ]
  },
  {
   "cell_type": "code",
   "execution_count": null,
   "metadata": {},
   "outputs": [],
   "source": [
    "# Twitear\n",
    "api.update_status(\"Hola Twitter!\")"
   ]
  },
  {
   "cell_type": "code",
   "execution_count": null,
   "metadata": {},
   "outputs": [],
   "source": [
    "# Twitear con media\n",
    "api.update_with_media('python.png','Un foto mia, ahre :)')"
   ]
  },
  {
   "cell_type": "markdown",
   "metadata": {},
   "source": [
    "# Busqueda de tweets\n",
    "\n",
    "[Standard query search Operators (Twitter API)](https://developer.twitter.com/en/docs/tweets/search/guides/standard-operators)\n",
    "\n",
    "Algunos ejemplos\n",
    "\n",
    "query | resultado |\n",
    "--- | --- |\n",
    "python | contiene la palabra python |\n",
    "patagonia meetup | contiene ambas palabras |\n",
    "patagonia AND meetup | contiene ambas palabras |\n",
    "\"python meetup\" | contiene la frase \"python meetup\" |\n",
    "python OR code | contiene python o code (o ambas) |\n",
    "from:user | tweet del usuario \"@user\" |\n",
    "code -price | contiene code y NO price |\n",
    "#cenpat | con el hastag #cenpat |\n",
    "python filter:media | contiene python y filtra por fotos y videos |\n",
    "python filter:native_video | contiene python y filtra por videos |\n",
    "python -filter:retweets | contiene python pero no muestra retweets |\n",
    "python filter:twimg | contiene python pero muestra sólo fotos (una o más) |\n",
    "filter:link | incluye tweets con links URL |\n",
    "url:conicets | URLs con la palabra cenpat en cualquier lugar del link |\n",
    "python since:2018-1-1 | contiene python y fue enviado después del 1 de Enero de 2018 |\n",
    "python until:2018-1-10 | contiene python y fue enviado antes del 10 de Enero de 2018 |\n",
    "python :) | contiene python y tiene buena onda |\n",
    "python :( | contiene python y tiene mala onda |"
   ]
  },
  {
   "cell_type": "code",
   "execution_count": 83,
   "metadata": {},
   "outputs": [
    {
     "name": "stdout",
     "output_type": "stream",
     "text": [
      "Tweet from @RTFMCelia\n",
      "If you’re interested in giving a talk or present a project in the  #patagonia #python #meetup @py_patagonia on Marc… https://t.co/dxbAuxV6Jm\n",
      "\n",
      "\n"
     ]
    }
   ],
   "source": [
    "from datetime import date\n",
    "for tweet in tweepy.Cursor(api.search,q='#patagonia #python #meetup -filter:retweets').items():\n",
    "    try:\n",
    "        print(\"Tweet from @{}\\n{}\\n\\n\".format(tweet.user.screen_name,tweet.text))\n",
    "    except tweepy.TweepError as e:\n",
    "        print(e.reason)"
   ]
  },
  {
   "cell_type": "code",
   "execution_count": 19,
   "metadata": {},
   "outputs": [
    {
     "name": "stdout",
     "output_type": "stream",
     "text": [
      "Tweet from @RTFMCelia\n",
      "text:If you’re interested in giving a talk or present a project in the  #patagonia #python #meetup @py_patagonia on March 3rd ping me or @pazitos10 @PabloNavarroooo 🐍🦕🐧🐋 https://t.co/Rwq3LinXD7\n",
      "id:967077710072811520\n",
      "\n",
      "\n"
     ]
    }
   ],
   "source": [
    "from datetime import date\n",
    "for tweet in tweepy.Cursor(api.search,q=\"#patagonia #python #meetup -filter:retweets\",tweet_mode='extended').items():\n",
    "    try:\n",
    "        print(\"Tweet from @{}\\ntext:{}\\nid:{}\\n\\n\".format(tweet.user.screen_name,tweet.full_text, tweet.id))\n",
    "    except tweepy.TweepError as e:\n",
    "        print(e.reason)"
   ]
  },
  {
   "cell_type": "markdown",
   "metadata": {},
   "source": [
    "## Ahora sí, deploy!\n",
    "\n",
    "Tenemos que:\n",
    "\n",
    "1. Instalar heroku (tutorial paso a paso [aquí](https://devcenter.heroku.com/articles/getting-started-with-python#introduction))\n",
    "2. Poner nuestro codigo en un repositorio: `git init`\n",
    "3. "
   ]
  },
  {
   "cell_type": "code",
   "execution_count": null,
   "metadata": {},
   "outputs": [],
   "source": []
  }
 ],
 "metadata": {
  "kernelspec": {
   "display_name": "twitter",
   "language": "python",
   "name": "twitter"
  },
  "language_info": {
   "codemirror_mode": {
    "name": "ipython",
    "version": 3
   },
   "file_extension": ".py",
   "mimetype": "text/x-python",
   "name": "python",
   "nbconvert_exporter": "python",
   "pygments_lexer": "ipython3",
   "version": "3.5.2"
  }
 },
 "nbformat": 4,
 "nbformat_minor": 2
}
