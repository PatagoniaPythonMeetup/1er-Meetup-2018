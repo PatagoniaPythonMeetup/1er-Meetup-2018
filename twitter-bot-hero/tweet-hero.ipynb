{
 "cells": [
  {
   "cell_type": "markdown",
   "metadata": {},
   "source": [
    "# Crear un twitter bot en con Python\n",
    "\n",
    "![](https://dototot.com/app/uploads/2013/11/guidoTwitterBot_final1-1.jpg)\n",
    "\n",
    "### Qué nos hace falta?\n",
    "\n",
    "1. Cuenta en twitter con mail y teléfono verificados\n",
    "1. Crear app en [Twitter Apps](http://apps.twitter.com/)\n",
    "1. Conseguir credenciales de acceso en la pestaña *Settings* (regenerar cada tanto)\n",
    "\n",
    "### Joya, y ahora?\n",
    "\n",
    "1. Librería [Tweepy](http://www.tweepy.org/) (docs [aquí](http://tweepy.readthedocs.io/en/v3.5.0/))\n",
    "\n",
    "let's get to it"
   ]
  },
  {
   "cell_type": "code",
   "execution_count": null,
   "metadata": {},
   "outputs": [],
   "source": [
    "import tweepy"
   ]
  },
  {
   "cell_type": "code",
   "execution_count": null,
   "metadata": {},
   "outputs": [],
   "source": [
    "# Credentials\n",
    "CONSUMER_KEY = ''#keep the quotes, replace this with your consumer key\n",
    "CONSUMER_SECRET = ''#keep the quotes, replace this with your consumer secret key\n",
    "ACCESS_KEY = ''#keep the quotes, replace this with your access token\n",
    "ACCESS_SECRET = ''#keep the quotes, replace this with your access token secret"
   ]
  },
  {
   "cell_type": "code",
   "execution_count": null,
   "metadata": {},
   "outputs": [],
   "source": [
    "# Aunticarse usando lo antes seteado\n",
    "auth = tweepy.OAuthHandler(CONSUMER_KEY, CONSUMER_SECRET)\n",
    "auth.set_access_token(ACCESS_KEY, ACCESS_SECRET)\n",
    "api = tweepy.API(auth)"
   ]
  },
  {
   "cell_type": "code",
   "execution_count": null,
   "metadata": {},
   "outputs": [],
   "source": [
    "# Twitear\n",
    "api.update_status(\"Hola Twitter!\")"
   ]
  },
  {
   "cell_type": "code",
   "execution_count": null,
   "metadata": {},
   "outputs": [],
   "source": [
    "# Twitear con media\n",
    "api.update_with_media('python.png','Un foto mia, ahre :)')"
   ]
  },
  {
   "cell_type": "markdown",
   "metadata": {},
   "source": [
    "# Busqueda de tweets\n",
    "\n",
    "[Standard query search Operators (Twitter API)](https://developer.twitter.com/en/docs/tweets/search/guides/standard-operators)\n",
    "\n",
    "Algunos ejemplos\n",
    "\n",
    "query | resultado |\n",
    "--- | --- |\n",
    "python | contiene la palabra python |\n",
    "patagonia meetup | contiene ambas palabras |\n",
    "patagonia AND meetup | contiene ambas palabras |\n",
    "\"python meetup\" | contiene la frase \"python meetup\" |\n",
    "python OR code | contiene python o code (o ambas) |\n",
    "from:user | tweet del usuario \"@user\" |\n",
    "code -price | contiene code y NO price |\n",
    "#cenpat | con el hastag #cenpat |\n",
    "python filter:media | contiene python y filtra por fotos y videos |\n",
    "python filter:native_video | contiene python y filtra por videos |\n",
    "python -filter:retweets | contiene python pero no muestra retweets |\n",
    "python filter:twimg | contiene python pero muestra sólo fotos (una o más) |\n",
    "filter:link | incluye tweets con links URL |\n",
    "url:conicets | URLs con la palabra cenpat en cualquier lugar del link |\n",
    "python since:2018-1-1 | contiene python y fue enviado después del 1 de Enero de 2018 |\n",
    "python until:2018-1-10 | contiene python y fue enviado antes del 10 de Enero de 2018 |\n",
    "python :) | contiene python y tiene buena onda |\n",
    "python :( | contiene python y tiene mala onda |"
   ]
  },
  {
   "cell_type": "code",
   "execution_count": null,
   "metadata": {},
   "outputs": [],
   "source": [
    "from datetime import date\n",
    "for tweet in tweepy.Cursor(api.search,q='#patagonia #python #meetup -filter:retweets').items():\n",
    "    try:\n",
    "        print(\"Tweet from @{}\\n{}\\n\\n\".format(tweet.user.screen_name,tweet.text))\n",
    "    except tweepy.TweepError as e:\n",
    "        print(e.reason)"
   ]
  },
  {
   "cell_type": "code",
   "execution_count": null,
   "metadata": {},
   "outputs": [],
   "source": [
    "from datetime import date\n",
    "for tweet in tweepy.Cursor(api.search,q=\"#patagonia #python #meetup -filter:retweets\",tweet_mode='extended').items():\n",
    "    try:\n",
    "        print(\"Tweet from @{}\\n{}\\n\\n\".format(tweet.user.screen_name,tweet.full_text))\n",
    "    except tweepy.TweepError as e:\n",
    "        print(e.reason)"
   ]
  },
  {
   "cell_type": "markdown",
   "metadata": {},
   "source": [
    "## Ahora sí, deploy!\n",
    "\n",
    "Para deploy vamos a usar [Heroku](https://www.heroku.com/)\n",
    "\n",
    "![Heroku logo](http://resources.mynewsdesk.com/image/upload/c_limit,dpr_1.0,f_auto,h_700,q_auto,w_690/asxhxoopzst8iltdnaog.jpg)\n",
    "\n",
    "Tenemos que:\n",
    "\n",
    "1. Crear una [cuenta](https://signup.heroku.com/) e [instalar Heroku para deployear Python](https://devcenter.heroku.com/articles/getting-started-with-python#set-up) \n",
    "2. Poner nuestro bot en un repositorio: `git init` o `git clone`\n",
    "2. `heroku create` para setear el ambiente de deploy\n",
    "3. Crear un `procfile` para que nuestro worker reaccione\n",
    "    En nuetro caso sólo va a tener:\n",
    "    `web: python bot.py`\n",
    "4. Commit a los cambios    \n",
    "4. Push al remoto que nos brinda Heroku con `git push heroku master`\n",
    "5. Esperar a que suba y haga el deploy y ya está!\n"
   ]
  },
  {
   "cell_type": "code",
   "execution_count": null,
   "metadata": {},
   "outputs": [],
   "source": []
  }
 ],
 "metadata": {
  "kernelspec": {
   "display_name": "twitter",
   "language": "python",
   "name": "twitter"
  },
  "language_info": {
   "codemirror_mode": {
    "name": "ipython",
    "version": 3
   },
   "file_extension": ".py",
   "mimetype": "text/x-python",
   "name": "python",
   "nbconvert_exporter": "python",
   "pygments_lexer": "ipython3",
   "version": "3.5.2"
  }
 },
 "nbformat": 4,
 "nbformat_minor": 2
}
