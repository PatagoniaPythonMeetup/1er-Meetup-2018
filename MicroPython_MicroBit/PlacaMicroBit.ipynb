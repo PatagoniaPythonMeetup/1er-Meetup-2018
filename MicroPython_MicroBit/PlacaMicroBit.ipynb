{
 "cells": [
  {
   "cell_type": "markdown",
   "metadata": {},
   "source": [
    "# Micro:bit  ([http://cor.to/microbit](http://cor.to/microbit))\n",
    "\n",
    "![](./images/microbit.jpg)"
   ]
  },
  {
   "cell_type": "markdown",
   "metadata": {},
   "source": [
    "# Características del Hardware\n",
    "\n",
    "* Display de 25 LEDs en matríz 5x5\n",
    "* Dos botones\n",
    "* Acelerometro\n",
    "* Brújula o Magenetómetro\n",
    "* Bluetooth\n",
    "* Entradas de conexión tipo anillo\n"
   ]
  },
  {
   "cell_type": "markdown",
   "metadata": {},
   "source": [
    "## Diagrama del Hardware\n",
    "![Microbit](images/microbit_specs.jpg)"
   ]
  },
  {
   "cell_type": "markdown",
   "metadata": {},
   "source": [
    "## Cómo se programa?\n",
    "\n",
    "\n",
    "Al insertar la placa por el puerto USB:\n",
    "* Se inserta un disco USB (como si fuera un Pendrive):\n",
    "  * Al descargar un archivo con extension `.hex` \n",
    "  * La placa se **flashea** o graba el programa\n",
    "  * La placa se reinicia y ejecuta el programa\n",
    " "
   ]
  },
  {
   "cell_type": "markdown",
   "metadata": {},
   "source": [
    "![USB Stick](./images/microbit_pendrive.png)"
   ]
  },
  {
   "cell_type": "markdown",
   "metadata": {},
   "source": [
    "## Modos de Programación\n",
    "\n",
    "### Editor de bloques\n",
    "\n",
    "![](./images/javascript-editor.png)"
   ]
  },
  {
   "cell_type": "markdown",
   "metadata": {},
   "source": [
    "### Mu\n",
    "\n",
    "![](./images/Mu2.jpg)"
   ]
  },
  {
   "cell_type": "markdown",
   "metadata": {},
   "source": [
    "## EduBlocks"
   ]
  },
  {
   "cell_type": "code",
   "execution_count": 11,
   "metadata": {},
   "outputs": [
    {
     "data": {
      "text/html": [
       "<video src=\"./images/edublocks.mp4\" controls>\n",
       "      Your browser does not support the <code>video</code> element.\n",
       "    </video>"
      ],
      "text/plain": [
       "<IPython.core.display.Video object>"
      ]
     },
     "metadata": {},
     "output_type": "display_data"
    }
   ],
   "source": [
    "from IPython.display import display, Video, HTML; import os\n",
    "if os.path.exists('./images/edublocks.mp4'):\n",
    "    display(Video('./images/edublocks.mp4'))\n",
    "else:\n",
    "    display(HTML('<h3><a href=\"https://twitter.com/ExaFoundation/status/962997817781481472\">Creador 📹</a></h3>'))"
   ]
  },
  {
   "cell_type": "markdown",
   "metadata": {},
   "source": [
    "## uFlash\n",
    "\n",
    "```\n",
    "pip isntall uflash\n",
    "uflash miarchivo.py\n",
    "```\n",
    "![uFlash](./images/uflash.png)"
   ]
  },
  {
   "cell_type": "markdown",
   "metadata": {},
   "source": [
    "[![EduBlocks](./images/microbit-edu-blocks.png)](http://microbit.edublocks.org/)"
   ]
  },
  {
   "cell_type": "markdown",
   "metadata": {},
   "source": [
    "### uFlash \n",
    "```\n",
    "uflash --help\n",
    "usage: uflash [-h] [-r RUNTIME] [-e] [-w] [source] [target [target ...]]\n",
    "\n",
    "Flash Python onto the BBC micro:bit or extract Python from a .hex file. If no\n",
    "path to the micro:bit is provided uflash will attempt to autodetect the\n",
    "correct path to the device. If no path to the Python script is provided uflash\n",
    "will flash the unmodified MicroPython firmware onto the device. Use the -e\n",
    "flag to recover a Python script from a hex file. Use the -r flag to specify a\n",
    "custom version of the MicroPython runtime. Documentation is here:\n",
    "https://uflash.readthedocs.io/en/latest/\n",
    "\n",
    "positional arguments:\n",
    "  source\n",
    "  target\n",
    "\n",
    "optional arguments:\n",
    "  -h, --help            show this help message and exit\n",
    "  -r RUNTIME, --runtime RUNTIME\n",
    "                        Use the referenced MicroPython runtime.\n",
    "  -e, --extract         Extract python source from a hex file instead of\n",
    "                        creating the hex file.\n",
    "  -w, --watch           Watch the source file for changes.\n",
    "```"
   ]
  },
  {
   "cell_type": "markdown",
   "metadata": {},
   "source": [
    "## Conexión con otros dispositovos \n",
    "\n",
    "### Microbbit para Android (o iOS)\n",
    "\n",
    "![Mobile](./images/microbit-mobile.png)"
   ]
  },
  {
   "cell_type": "markdown",
   "metadata": {},
   "source": [
    "## Otras formas\n",
    "\n",
    "### REPL\n",
    "Como todas las placas MicroPython es posible conectarse con la consola a través de una terminal serial, como `screen` en Unix o HyperTerminal\n",
    "\n",
    "![](./images/miniterm.gif)\n",
    "\n"
   ]
  },
  {
   "cell_type": "code",
   "execution_count": null,
   "metadata": {},
   "outputs": [],
   "source": []
  },
  {
   "cell_type": "markdown",
   "metadata": {},
   "source": [
    "## Manos a la obra!\n",
    "<img src='./images/showtime.gif' >"
   ]
  },
  {
   "cell_type": "code",
   "execution_count": 52,
   "metadata": {},
   "outputs": [
    {
     "data": {
      "text/html": [
       "\n",
       "        <iframe\n",
       "            width=\"100%\"\n",
       "            height=\"400px\"\n",
       "            src=\"https://microbit-micropython.readthedocs.io/en/latest/\"\n",
       "            frameborder=\"0\"\n",
       "            allowfullscreen\n",
       "        ></iframe>\n",
       "        "
      ],
      "text/plain": [
       "<IPython.lib.display.IFrame at 0x10e52d630>"
      ]
     },
     "execution_count": 52,
     "metadata": {},
     "output_type": "execute_result"
    }
   ],
   "source": [
    "from IPython.display import IFrame\n",
    "IFrame('https://microbit-micropython.readthedocs.io/en/latest/', width='100%', height='400px')"
   ]
  },
  {
   "cell_type": "markdown",
   "metadata": {},
   "source": [
    "## Algunos ejemplos"
   ]
  },
  {
   "cell_type": "code",
   "execution_count": 1,
   "metadata": {},
   "outputs": [],
   "source": [
    "'''\n",
    "Grabador de celdas en micro:bit\n",
    "'''\n",
    "from IPython.core.magic import register_cell_magic\n",
    "from subprocess import check_call\n",
    "import os\n",
    "\n",
    "UFLASH = os.path.expanduser(\n",
    "    '~/.pyenv/versions/3.6.0/envs/tools3/bin/uflash'\n",
    ")\n",
    "\n",
    "@register_cell_magic\n",
    "def grabar(nombre, contenido):\n",
    "    \"Graba un archivo y lo flashea con uFlash\"\n",
    "    full_name = '/tmp/{}'.format(nombre)\n",
    "    print('Grabando {}'.format(nombre))\n",
    "    with open(full_name, 'wb') as fp:\n",
    "        fp.write(contenido.encode('utf-8'))\n",
    "        fp.flush()\n",
    "        check_call([UFLASH, full_name])"
   ]
  },
  {
   "cell_type": "markdown",
   "metadata": {},
   "source": [
    "## Mostrando texto en el display"
   ]
  },
  {
   "cell_type": "code",
   "execution_count": 2,
   "metadata": {},
   "outputs": [
    {
     "name": "stdout",
     "output_type": "stream",
     "text": [
      "Grabando main.py\n"
     ]
    }
   ],
   "source": [
    "%%grabar main.py\n",
    "\n",
    "from microbit import *\n",
    "\n",
    "while True:\n",
    "    display.scroll('1er Meetup 2018')"
   ]
  },
  {
   "cell_type": "markdown",
   "metadata": {},
   "source": [
    "## Contando pulsaciones de boton"
   ]
  },
  {
   "cell_type": "code",
   "execution_count": 3,
   "metadata": {},
   "outputs": [
    {
     "name": "stdout",
     "output_type": "stream",
     "text": [
      "Grabando contador.py\n"
     ]
    }
   ],
   "source": [
    "%%grabar contador.py\n",
    "from microbit import *\n",
    "\n",
    "sleep(10000)\n",
    "display.scroll(str(button_a.get_presses()))"
   ]
  },
  {
   "cell_type": "markdown",
   "metadata": {},
   "source": [
    "## Contando tiempo"
   ]
  },
  {
   "cell_type": "code",
   "execution_count": 53,
   "metadata": {},
   "outputs": [],
   "source": [
    "%%grabar sorprendido.py\n",
    "from microbit import *\n",
    "\n",
    "while running_time() < 10000:\n",
    "    display.show(Image.ASLEEP)\n",
    "\n",
    "display.show(Image.SURPRISED)"
   ]
  },
  {
   "cell_type": "markdown",
   "metadata": {},
   "source": [
    "## Parlantito 🎧🎶"
   ]
  },
  {
   "cell_type": "code",
   "execution_count": 4,
   "metadata": {},
   "outputs": [
    {
     "name": "stdout",
     "output_type": "stream",
     "text": [
      "Grabando parlantito.py\n"
     ]
    }
   ],
   "source": [
    "%%grabar parlantito.py\n",
    "from microbit import *\n",
    "\n",
    "while True:\n",
    "    pin0.write_digital(1)\n",
    "    sleep(20)\n",
    "    pin0.write_digital(0)\n",
    "    sleep(480)"
   ]
  },
  {
   "cell_type": "markdown",
   "metadata": {},
   "source": [
    "## Nivel\n",
    "![](./images/nivel.jpg)"
   ]
  },
  {
   "cell_type": "code",
   "execution_count": 5,
   "metadata": {},
   "outputs": [
    {
     "name": "stdout",
     "output_type": "stream",
     "text": [
      "Grabando nivel.py\n"
     ]
    }
   ],
   "source": [
    "%%grabar nivel.py\n",
    "from microbit import *\n",
    "\n",
    "while True:\n",
    "    reading = accelerometer.get_x()\n",
    "    if reading > 20:\n",
    "        display.show(\"R\")\n",
    "    elif reading < -20:\n",
    "        display.show(\"L\")\n",
    "    else:\n",
    "        display.show(\"-\")"
   ]
  },
  {
   "cell_type": "markdown",
   "metadata": {},
   "source": [
    "## Numero aleatorio\n",
    "\n",
    "![](./images/DescentDice.jpg)"
   ]
  },
  {
   "cell_type": "code",
   "execution_count": 6,
   "metadata": {},
   "outputs": [
    {
     "name": "stdout",
     "output_type": "stream",
     "text": [
      "Grabando dado.py\n"
     ]
    }
   ],
   "source": [
    "%%grabar dado.py\n",
    "from microbit import *\n",
    "import random\n",
    "\n",
    "# random.seed(1337)\n",
    "while True:\n",
    "    if button_a.was_pressed():\n",
    "        display.show(str(random.randint(1, 6)))"
   ]
  },
  {
   "cell_type": "markdown",
   "metadata": {},
   "source": [
    "## Compass"
   ]
  },
  {
   "cell_type": "code",
   "execution_count": 69,
   "metadata": {},
   "outputs": [
    {
     "name": "stdout",
     "output_type": "stream",
     "text": [
      "Grabando compass.py\n"
     ]
    }
   ],
   "source": [
    "%%grabar compass.py\n",
    "from microbit import *\n",
    "\n",
    "compass.calibrate()\n",
    "\n",
    "while True:\n",
    "    needle = ((15 - compass.heading()) // 30) % 12\n",
    "    display.show(Image.ALL_CLOCKS[needle])"
   ]
  },
  {
   "cell_type": "markdown",
   "metadata": {},
   "source": [
    "## Grabando Archivos"
   ]
  },
  {
   "cell_type": "code",
   "execution_count": 7,
   "metadata": {},
   "outputs": [
    {
     "name": "stdout",
     "output_type": "stream",
     "text": [
      "Grabando archivos.py\n"
     ]
    }
   ],
   "source": [
    "%%grabar archivos.py\n",
    "\n",
    "from microbit import *\n",
    "\n",
    "with open('main.txt', 'w') as fp:\n",
    "    fp.write('Hola')\n",
    "display.scroll(\"OK\")\n"
   ]
  },
  {
   "cell_type": "markdown",
   "metadata": {},
   "source": [
    "### Para buscar los archivos\n",
    "```\n",
    "pip install microfs\n",
    "```"
   ]
  },
  {
   "cell_type": "code",
   "execution_count": 9,
   "metadata": {},
   "outputs": [],
   "source": [
    "!ufs get main.txt"
   ]
  },
  {
   "cell_type": "code",
   "execution_count": 10,
   "metadata": {},
   "outputs": [],
   "source": [
    "!open main.txt"
   ]
  },
  {
   "cell_type": "markdown",
   "metadata": {},
   "source": [
    "## Imagenes"
   ]
  },
  {
   "cell_type": "code",
   "execution_count": 11,
   "metadata": {},
   "outputs": [
    {
     "name": "stdout",
     "output_type": "stream",
     "text": [
      "Grabando imagenes.py\n"
     ]
    }
   ],
   "source": [
    "%%grabar imagenes.py\n",
    "\n",
    "from microbit import *\n",
    "\n",
    "imgs = [getattr(Image, name) \n",
    "        for name in dir(Image) if name.upper() == name]\n",
    "n = 0\n",
    "MAX = len(imgs)\n",
    "while True:\n",
    "    sleep(33)\n",
    "    if button_a.is_pressed():\n",
    "        n += 1\n",
    "        if n == MAX:\n",
    "            n = 0\n",
    "        print(n)\n",
    "    elif button_b.is_pressed():\n",
    "        n -= 1\n",
    "        if n < 0:\n",
    "            n = MAX - 1 \n",
    "        print(n)\n",
    "    display.show(imgs[n])\n"
   ]
  },
  {
   "cell_type": "markdown",
   "metadata": {},
   "source": [
    "## Musica"
   ]
  },
  {
   "cell_type": "code",
   "execution_count": 12,
   "metadata": {},
   "outputs": [
    {
     "name": "stdout",
     "output_type": "stream",
     "text": [
      "Grabando musica.py\n"
     ]
    }
   ],
   "source": [
    "%%grabar musica.py\n",
    "\n",
    "from micropython import *\n",
    "\n",
    "import music\n",
    "\n",
    "PRELUDIO = (\n",
    "    'c4:1', 'e', 'g', 'c5', 'e', 'g4', 'c5', 'e', 'c4', \n",
    "    'e', 'g', 'c5', 'e', 'g4', 'c5', 'e', 'c4', 'd', 'g', \n",
    "    'd5', 'f', 'g4', 'd5', 'f', 'c4', 'd', 'g', 'd5', 'f', \n",
    "    'g4', 'd5', 'f', 'b3', 'd4', 'g', 'd5', 'f', 'g4', 'd5', \n",
    "    'f', 'b3', 'd4', 'g', 'd5', 'f', 'g4', 'd5', 'f', 'c4', \n",
    "    'e', 'g', 'c5', 'e', 'g4', 'c5', 'e', 'c4', 'e', 'g', \n",
    "    'c5', 'e', 'g4', 'c5', 'e'\n",
    ")\n",
    "music.play(PRELUDIO)"
   ]
  },
  {
   "cell_type": "markdown",
   "metadata": {},
   "source": [
    "## Texto a Voz"
   ]
  },
  {
   "cell_type": "code",
   "execution_count": 13,
   "metadata": {},
   "outputs": [
    {
     "name": "stdout",
     "output_type": "stream",
     "text": [
      "Grabando speech.py\n"
     ]
    }
   ],
   "source": [
    "%%grabar speech.py\n",
    "\n",
    "from microbit import *\n",
    "\n",
    "import speech\n",
    "speech.say(\"Exterminate!\")"
   ]
  },
  {
   "cell_type": "code",
   "execution_count": 16,
   "metadata": {},
   "outputs": [
    {
     "name": "stdout",
     "output_type": "stream",
     "text": [
      "Everything up-to-date\n"
     ]
    }
   ],
   "source": [
    "!git push origin master"
   ]
  },
  {
   "cell_type": "code",
   "execution_count": null,
   "metadata": {},
   "outputs": [],
   "source": []
  }
 ],
 "metadata": {
  "kernelspec": {
   "display_name": "Python 3",
   "language": "python",
   "name": "python3"
  },
  "language_info": {
   "codemirror_mode": {
    "name": "ipython",
    "version": 3
   },
   "file_extension": ".py",
   "mimetype": "text/x-python",
   "name": "python",
   "nbconvert_exporter": "python",
   "pygments_lexer": "ipython3",
   "version": "3.6.0"
  }
 },
 "nbformat": 4,
 "nbformat_minor": 2
}
